{
  "cells": [
    {
      "cell_type": "markdown",
      "metadata": {
        "id": "-ODQpnzMdWJT"
      },
      "source": [
        "# **Xử lý dữ liệu lớn** - 504048"
      ]
    },
    {
      "cell_type": "code",
      "execution_count": 1,
      "metadata": {
        "colab": {
          "base_uri": "https://localhost:8080/"
        },
        "id": "O5tVUTzg2DcN",
        "outputId": "e0a554db-4266-4612-b75a-09ce8dd0ce3d"
      },
      "outputs": [
        {
          "name": "stdout",
          "output_type": "stream",
          "text": [
            "Mounted at /content/drive\n"
          ]
        }
      ],
      "source": [
        "from google.colab import drive\n",
        "drive.mount('/content/drive')"
      ]
    },
    {
      "cell_type": "markdown",
      "metadata": {
        "id": "zvCVkoEedcAq"
      },
      "source": [
        "\n",
        "Thành viên nhóm:\n",
        "\n",
        "*   Nguyễn Quốc Anh     - **52100871**\n",
        "*   Võ Phú Vinh         - **52100947**\n",
        "*   Lục Minh Hiếu       - **52100889**\n",
        "*   Nguyễn Vũ Tường     - **52100944**\n",
        "\n",
        "\n"
      ]
    },
    {
      "cell_type": "markdown",
      "metadata": {
        "id": "Zb3b-uwfeh_5"
      },
      "source": [
        "## Cài đặt môi trường PySpark"
      ]
    },
    {
      "cell_type": "code",
      "execution_count": 2,
      "metadata": {
        "id": "_XLVvB5kdA8S"
      },
      "outputs": [],
      "source": [
        "!apt-get install openjdk-8-jdk-headless -qq > /dev/null\n",
        "!wget -q http://archive.apache.org/dist/spark/spark-3.1.1/spark-3.1.1-bin-hadoop3.2.tgz\n",
        "# !cp drive/MyDrive/TĐT/MMDS/spark-3.1.1-bin-hadoop3.2.tgz .\n",
        "!tar xf spark-3.1.1-bin-hadoop3.2.tgz\n",
        "!pip install -q findspark"
      ]
    },
    {
      "cell_type": "code",
      "execution_count": 3,
      "metadata": {
        "id": "rzUV01DSetb5"
      },
      "outputs": [],
      "source": [
        "import os\n",
        "import findspark\n",
        "\n",
        "os.environ[\"JAVA_HOME\"] = \"/usr/lib/jvm/java-8-openjdk-amd64\"\n",
        "os.environ[\"SPARK_HOME\"] = \"/content/spark-3.1.1-bin-hadoop3.2\"\n",
        "\n",
        "findspark.init()"
      ]
    },
    {
      "cell_type": "code",
      "execution_count": 1,
      "metadata": {},
      "outputs": [],
      "source": [
        "import os\n",
        "import findspark\n",
        "\n",
        "os.environ[\"JAVA_HOME\"] = \"C:\\Program Files\\Java\\jdk-11\"\n",
        "os.environ[\"SPARK_HOME\"] = \"C:\\spark\\spark-3.1.1-bin-hadoop3.2\"\n",
        "\n",
        "findspark.init()"
      ]
    },
    {
      "cell_type": "code",
      "execution_count": 2,
      "metadata": {
        "colab": {
          "base_uri": "https://localhost:8080/"
        },
        "id": "e6yCocsKiWDv",
        "outputId": "dfad70ea-a4dc-45d9-d61e-8889b16ea683"
      },
      "outputs": [
        {
          "name": "stdout",
          "output_type": "stream",
          "text": [
            "3.1.1\n"
          ]
        }
      ],
      "source": [
        "import pyspark\n",
        "\n",
        "print(pyspark.__version__)"
      ]
    },
    {
      "cell_type": "markdown",
      "metadata": {
        "id": "tHoRFRkffszz"
      },
      "source": [
        "## Câu 1: In-memory MinHashLSH"
      ]
    },
    {
      "cell_type": "markdown",
      "metadata": {
        "id": "XRmedJnYfzAT"
      },
      "source": [
        "### Import các thư viện cần thiết"
      ]
    },
    {
      "cell_type": "code",
      "execution_count": 3,
      "metadata": {
        "id": "gfGNdZeVf3uN"
      },
      "outputs": [],
      "source": [
        "import pandas as pd\n",
        "import numpy as np\n",
        "import random\n",
        "import hashlib\n",
        "\n",
        "from collections import defaultdict"
      ]
    },
    {
      "cell_type": "code",
      "execution_count": 4,
      "metadata": {
        "colab": {
          "base_uri": "https://localhost:8080/"
        },
        "id": "-_bbT28J99xU",
        "outputId": "05e0d7c0-e45d-4d58-fad5-9eaac590a910"
      },
      "outputs": [
        {
          "name": "stdout",
          "output_type": "stream",
          "text": [
            "                                               abstract\n",
            "0     Phytoplasmas are insect-vectored bacteria that...\n",
            "1     Background: (-)-alpha-Bisabolol, also known as...\n",
            "2     A universal feature of the replication of posi...\n",
            "3     1,2-Dichloropropane (1,2-DCP) and dichlorometh...\n",
            "4     This paper presents the simulation results of ...\n",
            "...                                                 ...\n",
            "5731  The intercalation of L-phenylalanate (LP) into...\n",
            "5732  There is current interest in harnessing the co...\n",
            "5733  Aim: The zinc finger antiviral protein (ZAP) i...\n",
            "5734  The present article reviews the biotechnologic...\n",
            "5735  This paper focuses on a new kind of artificial...\n",
            "\n",
            "[5736 rows x 1 columns]\n"
          ]
        }
      ],
      "source": [
        "# Read the text file line by line\n",
        "with open('WebOfScience-5736.txt', 'r') as file:\n",
        "    lines = file.readlines()\n",
        "\n",
        "# Create a DataFrame with a single column containing the sentences\n",
        "df = pd.DataFrame({'abstract': [line.strip() for line in lines]})\n",
        "\n",
        "# Display the DataFrame\n",
        "print(df)"
      ]
    },
    {
      "cell_type": "markdown",
      "metadata": {
        "id": "ZNn-NE3Ef-Ck"
      },
      "source": [
        "### Tạo lớp đối tượng InMemoryMinHashLSH"
      ]
    },
    {
      "cell_type": "code",
      "execution_count": 5,
      "metadata": {
        "id": "wd7doqZRf8Um"
      },
      "outputs": [],
      "source": [
        "class InMemoryMinHashLSH():\n",
        "    def __init__(\n",
        "            self,\n",
        "            documents: pd.DataFrame,\n",
        "            k = 2,\n",
        "            num_per = 10,\n",
        "            bands = 10,\n",
        "        ):\n",
        "        self.documents = documents\n",
        "        self.k = k\n",
        "        self.num_per = num_per\n",
        "        self.bands = bands\n",
        "\n",
        "    @staticmethod\n",
        "    def __shingle(text: str, k: int) -> set:\n",
        "        shingle_set = []\n",
        "        text = text.lower()\n",
        "        for i in range(len(text) - k+1):\n",
        "            shingle_set.append(text[i:i+k])\n",
        "        return set(shingle_set)\n",
        "\n",
        "    @staticmethod\n",
        "    def __convert_to_bool_vector(text: str, shingle_idx: dict, k: int) -> set:\n",
        "        shingle_set = InMemoryMinHashLSH.__shingle(text, k)\n",
        "        res = [0] * len(shingle_idx.keys())\n",
        "        for s in shingle_set:\n",
        "            res[shingle_idx[s]] = 1\n",
        "        return res\n",
        "\n",
        "    def shingling(self, documents: pd.DataFrame, k = 2) -> pd.DataFrame:\n",
        "        all_shingle_set = []\n",
        "        for text in documents['abstract'].values:\n",
        "            for i in InMemoryMinHashLSH.__shingle(text, k):\n",
        "                all_shingle_set.append(i)\n",
        "\n",
        "        all_shingle_set = sorted(set(all_shingle_set))\n",
        "\n",
        "        shingle_idx = dict()\n",
        "        for idx, s in enumerate(all_shingle_set):\n",
        "            shingle_idx[s] = idx\n",
        "\n",
        "        self.all_shingle_set = all_shingle_set\n",
        "        self.shingle_idx = shingle_idx\n",
        "\n",
        "        result = documents['abstract']\\\n",
        "                    .apply(\n",
        "                        InMemoryMinHashLSH.__convert_to_bool_vector,\n",
        "                        args=(shingle_idx, k)\n",
        "                    )\n",
        "\n",
        "        return result.to_frame()\n",
        "\n",
        "    def minhashing_not_permute(self, bool_vectors: pd.DataFrame, num_per=10) -> pd.DataFrame:\n",
        "        bool_len = len(bool_vectors['abstract'][0])\n",
        "        list_idx = list(range(bool_len))\n",
        "        hash_func = lambda x, seed: hashlib.sha256(\n",
        "                        str(x).encode('utf-8') + \\\n",
        "                        str(seed).encode('utf-8')\n",
        "                    ).hexdigest()\n",
        "\n",
        "        # Create a new DataFrame with each boolean value as a new column\n",
        "        bool_vectors_t = pd.DataFrame(bool_vectors['abstract'].tolist())\\\n",
        "                           .transpose()\n",
        "\n",
        "        # Create a new DataFrame with each boolean value as a new column\n",
        "        all_hashed_idx = []\n",
        "        for i in range(num_per):\n",
        "            hashed_idx = map(lambda x: int(hash_func(x, i), 16) % 1000, list_idx)\n",
        "            hashed_idx = pd.Series(list(hashed_idx), name = 'hash' + str(i + 1))\n",
        "            all_hashed_idx.append(hashed_idx)\n",
        "        all_hashed_idx.append(bool_vectors_t)\n",
        "\n",
        "        bool_vectors_t = pd.concat(all_hashed_idx, axis = 1)\n",
        "\n",
        "        int_max = float('inf')  # Maximum integer value\n",
        "\n",
        "        # Create a DataFrame with dimensions n x m, filled with int_max\n",
        "        # Where n: number of document\n",
        "        # m is number of permutation\n",
        "        signatures = pd.DataFrame([[int_max] * len(bool_vectors)] * num_per)\n",
        "\n",
        "        for row in bool_vectors_t.values:\n",
        "            true_column = []\n",
        "            hashed_row = row[-num_per:]\n",
        "            for idx, v in enumerate(row[:len(row) - num_per]):\n",
        "                if v == 1:\n",
        "                    true_column.append(idx)\n",
        "            if len(true_column) == 0:\n",
        "                continue\n",
        "\n",
        "            for col in true_column:\n",
        "                signatures[col] = [min(v, hashed_row[idx]) for idx, v in enumerate(signatures[col])]\n",
        "\n",
        "        return signatures.transpose().apply(lambda x: list(x), axis = 1)\n",
        "\n",
        "    def generate_all_permutation(self, num_per : int, bool_len: int) -> list:\n",
        "        res = []\n",
        "        list_idx = list(range(bool_len))\n",
        "        for per in range(num_per):\n",
        "            random.Random(10).shuffle(list_idx)\n",
        "            res.append(list_idx.copy())\n",
        "\n",
        "        return res\n",
        "\n",
        "    def minhashing(self, bool_vectors: pd.DataFrame, num_per=10) -> pd.DataFrame:\n",
        "        number_documents = len(bool_vectors)\n",
        "        bool_len = len(bool_vectors['abstract'][0])\n",
        "        bool_vector_t = pd.DataFrame(bool_vectors['abstract'].tolist())\\\n",
        "                           .transpose()\n",
        "        signatures = pd.DataFrame([[-1] * number_documents] * num_per)\n",
        "\n",
        "        self.all_permutations = self.generate_all_permutation(num_per, bool_len)\n",
        "        for per in range(num_per):\n",
        "            list_idx = self.all_permutations[per]\n",
        "            for doc in range(number_documents):\n",
        "                first_idx = -1\n",
        "                for i in range(bool_len):\n",
        "                    if bool_vector_t[doc][list_idx[i]] == 1:\n",
        "                        first_idx = i\n",
        "                        break\n",
        "                signatures[doc][per] = first_idx\n",
        "\n",
        "        return signatures.transpose().apply(lambda x: list(x), axis = 1)\n",
        "\n",
        "    def jaccard_distance(self, x: set, y: set) -> float:\n",
        "\n",
        "        return 1 - (len(x.intersection(y)) / len(x.union(y)))\n",
        "\n",
        "    def locality_sensity_hashing(self, signatures: pd.DataFrame, bands = 10) -> pd.DataFrame:\n",
        "        assert len(signatures[0]) % bands == 0, \"Can not use this number for bands.\"\n",
        "\n",
        "        num_documents = len(signatures)\n",
        "        band_size = int(len(signatures[0]) / bands)\n",
        "\n",
        "        self.band_size = band_size\n",
        "\n",
        "        buckets = [[] for _ in range(num_documents)]\n",
        "\n",
        "        signatures_t = pd.DataFrame(signatures.tolist())\\\n",
        "                           .transpose()\n",
        "\n",
        "\n",
        "        hash_func = lambda x: hashlib.sha256(str(x).encode('utf-8')).hexdigest()\n",
        "\n",
        "        # Hash bands into buckets\n",
        "        for b in range(bands):\n",
        "            sigs_of_band = signatures_t.iloc[band_size * b: band_size * (b + 1), : num_documents]\n",
        "            for idx in range(num_documents):\n",
        "                hash_val = int(hash_func(\",\".join(str(v) for v in sigs_of_band[idx].tolist())), 16) % 200\n",
        "                buckets[idx].append(hash_val)\n",
        "\n",
        "        res = []\n",
        "\n",
        "        for doc in range(num_documents):\n",
        "            sig = signatures_t.iloc[:,:][doc].tolist()\n",
        "            res.append({\n",
        "                \"signature\": sig,\n",
        "                \"bucket_id\": buckets[doc]\n",
        "            })\n",
        "\n",
        "        res = pd.DataFrame(res, columns = [\"signature\", \"bucket_id\"])\n",
        "\n",
        "        return res\n",
        "\n",
        "    def run(self) -> None:\n",
        "        self.bool_vectors = self.shingling(self.documents, k = self.k)\n",
        "        self.signatures = self.minhashing(self.bool_vectors, num_per = self.num_per)\n",
        "        self.buckets = self.locality_sensity_hashing(self.signatures, bands = self.bands)\n",
        "\n",
        "    def approxNearestNeighbors(self, key: str, n: int) -> pd.DataFrame:\n",
        "        bool_vector = InMemoryMinHashLSH.__convert_to_bool_vector(key, self.shingle_idx, self.k)\n",
        "        signature = []\n",
        "        for list_idx in self.all_permutations:\n",
        "            first_idx = -1\n",
        "            for i in range(len(bool_vector)):\n",
        "                if bool_vector[list_idx[i]] == 1:\n",
        "                    first_idx = i\n",
        "                    break\n",
        "            signature.append(first_idx)\n",
        "\n",
        "        hash_func = lambda x: hashlib.sha256(str(x).encode('utf-8')).hexdigest()\n",
        "        candidate = []\n",
        "        bucket = []\n",
        "        for b in range(self.bands):\n",
        "            sig_band = signature[b * self.band_size : (b + 1) * self.band_size]\n",
        "            hash_val = int(hash_func(\",\".join(str(v) for v in sig_band)), 16) % 200\n",
        "            bucket.append(hash_val)\n",
        "\n",
        "        for row in self.buckets.iterrows():\n",
        "            for i in range(len(bucket)):\n",
        "                if bucket[i] == row[1][\"bucket_id\"][i]:\n",
        "                    candidate.append((row[0], row[1][\"signature\"]))\n",
        "                    break\n",
        "\n",
        "        all_sim_c = []\n",
        "\n",
        "        for c in candidate:\n",
        "            sim = self.jaccard_distance(set(signature) , set(c[1]))\n",
        "            all_sim_c.append((c[0], self.documents[\"abstract\"][c[0]], sim))\n",
        "\n",
        "        return pd.DataFrame(all_sim_c, columns = [\"id\", \"abstract\", \"dis_col\"])\\\n",
        "                    .sort_values(by=['dis_col'])\\\n",
        "                    .reset_index(drop = True)\\\n",
        "                    .head(n)\n"
      ]
    },
    {
      "cell_type": "code",
      "execution_count": 6,
      "metadata": {
        "id": "hd2Fj1gKJhSf"
      },
      "outputs": [],
      "source": [
        "lsh = InMemoryMinHashLSH(df, k = 3, num_per = 100, bands = 20)\n",
        "lsh.run()"
      ]
    },
    {
      "cell_type": "code",
      "execution_count": 7,
      "metadata": {
        "colab": {
          "base_uri": "https://localhost:8080/"
        },
        "id": "W7VWavCJuavr",
        "outputId": "9d1e5867-81b2-4807-cfd7-d59ea49b32e1"
      },
      "outputs": [
        {
          "data": {
            "text/plain": [
              "31046"
            ]
          },
          "execution_count": 7,
          "metadata": {},
          "output_type": "execute_result"
        }
      ],
      "source": [
        "len(lsh.bool_vectors[\"abstract\"][0])"
      ]
    },
    {
      "cell_type": "code",
      "execution_count": 8,
      "metadata": {
        "colab": {
          "base_uri": "https://localhost:8080/",
          "height": 424
        },
        "id": "Gn0hy7L1wt6n",
        "outputId": "fd6f0fe7-1e16-4088-fb5f-3978647eed2e"
      },
      "outputs": [
        {
          "data": {
            "text/html": [
              "<div>\n",
              "<style scoped>\n",
              "    .dataframe tbody tr th:only-of-type {\n",
              "        vertical-align: middle;\n",
              "    }\n",
              "\n",
              "    .dataframe tbody tr th {\n",
              "        vertical-align: top;\n",
              "    }\n",
              "\n",
              "    .dataframe thead th {\n",
              "        text-align: right;\n",
              "    }\n",
              "</style>\n",
              "<table border=\"1\" class=\"dataframe\">\n",
              "  <thead>\n",
              "    <tr style=\"text-align: right;\">\n",
              "      <th></th>\n",
              "      <th>abstract</th>\n",
              "    </tr>\n",
              "  </thead>\n",
              "  <tbody>\n",
              "    <tr>\n",
              "      <th>0</th>\n",
              "      <td>[0, 0, 0, 0, 0, 1, 0, 0, 0, 0, 0, 0, 0, 0, 0, ...</td>\n",
              "    </tr>\n",
              "    <tr>\n",
              "      <th>1</th>\n",
              "      <td>[0, 0, 0, 0, 0, 0, 0, 0, 0, 0, 0, 0, 0, 0, 0, ...</td>\n",
              "    </tr>\n",
              "    <tr>\n",
              "      <th>2</th>\n",
              "      <td>[0, 0, 0, 0, 0, 0, 0, 0, 0, 0, 0, 0, 0, 0, 0, ...</td>\n",
              "    </tr>\n",
              "    <tr>\n",
              "      <th>3</th>\n",
              "      <td>[0, 0, 0, 0, 0, 0, 0, 0, 0, 0, 0, 0, 0, 0, 0, ...</td>\n",
              "    </tr>\n",
              "    <tr>\n",
              "      <th>4</th>\n",
              "      <td>[0, 0, 0, 0, 0, 0, 0, 0, 0, 0, 0, 0, 0, 0, 0, ...</td>\n",
              "    </tr>\n",
              "    <tr>\n",
              "      <th>...</th>\n",
              "      <td>...</td>\n",
              "    </tr>\n",
              "    <tr>\n",
              "      <th>5731</th>\n",
              "      <td>[0, 0, 0, 0, 0, 0, 0, 0, 0, 0, 0, 0, 0, 0, 0, ...</td>\n",
              "    </tr>\n",
              "    <tr>\n",
              "      <th>5732</th>\n",
              "      <td>[0, 0, 0, 0, 0, 0, 0, 0, 0, 0, 0, 0, 0, 0, 0, ...</td>\n",
              "    </tr>\n",
              "    <tr>\n",
              "      <th>5733</th>\n",
              "      <td>[0, 0, 0, 0, 0, 0, 0, 0, 0, 0, 0, 0, 0, 0, 0, ...</td>\n",
              "    </tr>\n",
              "    <tr>\n",
              "      <th>5734</th>\n",
              "      <td>[0, 0, 0, 0, 0, 0, 0, 0, 0, 0, 0, 0, 0, 0, 0, ...</td>\n",
              "    </tr>\n",
              "    <tr>\n",
              "      <th>5735</th>\n",
              "      <td>[0, 0, 0, 0, 0, 0, 0, 0, 0, 0, 0, 0, 0, 0, 0, ...</td>\n",
              "    </tr>\n",
              "  </tbody>\n",
              "</table>\n",
              "<p>5736 rows × 1 columns</p>\n",
              "</div>"
            ],
            "text/plain": [
              "                                               abstract\n",
              "0     [0, 0, 0, 0, 0, 1, 0, 0, 0, 0, 0, 0, 0, 0, 0, ...\n",
              "1     [0, 0, 0, 0, 0, 0, 0, 0, 0, 0, 0, 0, 0, 0, 0, ...\n",
              "2     [0, 0, 0, 0, 0, 0, 0, 0, 0, 0, 0, 0, 0, 0, 0, ...\n",
              "3     [0, 0, 0, 0, 0, 0, 0, 0, 0, 0, 0, 0, 0, 0, 0, ...\n",
              "4     [0, 0, 0, 0, 0, 0, 0, 0, 0, 0, 0, 0, 0, 0, 0, ...\n",
              "...                                                 ...\n",
              "5731  [0, 0, 0, 0, 0, 0, 0, 0, 0, 0, 0, 0, 0, 0, 0, ...\n",
              "5732  [0, 0, 0, 0, 0, 0, 0, 0, 0, 0, 0, 0, 0, 0, 0, ...\n",
              "5733  [0, 0, 0, 0, 0, 0, 0, 0, 0, 0, 0, 0, 0, 0, 0, ...\n",
              "5734  [0, 0, 0, 0, 0, 0, 0, 0, 0, 0, 0, 0, 0, 0, 0, ...\n",
              "5735  [0, 0, 0, 0, 0, 0, 0, 0, 0, 0, 0, 0, 0, 0, 0, ...\n",
              "\n",
              "[5736 rows x 1 columns]"
            ]
          },
          "execution_count": 8,
          "metadata": {},
          "output_type": "execute_result"
        }
      ],
      "source": [
        "lsh.bool_vectors"
      ]
    },
    {
      "cell_type": "code",
      "execution_count": 9,
      "metadata": {
        "colab": {
          "base_uri": "https://localhost:8080/"
        },
        "id": "ViqkIaEHmJNq",
        "outputId": "8ca223be-20a8-444c-f390-0acbdfa19c19"
      },
      "outputs": [
        {
          "data": {
            "text/plain": [
              "0       [7, 5, 90, 107, 49, 34, 0, 34, 4, 76, 7, 61, 1...\n",
              "1       [1, 10, 90, 15, 55, 13, 37, 34, 4, 29, 8, 43, ...\n",
              "2       [7, 5, 8, 1, 55, 34, 79, 22, 4, 76, 28, 64, 52...\n",
              "3       [4, 5, 86, 27, 86, 34, 102, 34, 31, 76, 8, 72,...\n",
              "4       [87, 102, 160, 3, 116, 37, 132, 34, 4, 76, 8, ...\n",
              "                              ...                        \n",
              "5731    [7, 25, 18, 107, 37, 34, 27, 22, 4, 14, 16, 77...\n",
              "5732    [7, 5, 90, 1, 55, 34, 142, 22, 4, 76, 8, 84, 1...\n",
              "5733    [7, 5, 18, 1, 37, 127, 83, 22, 4, 76, 7, 72, 2...\n",
              "5734    [1, 10, 90, 1, 84, 239, 132, 22, 59, 3, 16, 84...\n",
              "5735    [179, 145, 355, 3, 199, 239, 79, 37, 114, 118,...\n",
              "Length: 5736, dtype: object"
            ]
          },
          "execution_count": 9,
          "metadata": {},
          "output_type": "execute_result"
        }
      ],
      "source": [
        "lsh.signatures"
      ]
    },
    {
      "cell_type": "code",
      "execution_count": 10,
      "metadata": {
        "colab": {
          "base_uri": "https://localhost:8080/",
          "height": 424
        },
        "id": "g1MoxrfimMN-",
        "outputId": "d77786ee-a296-4458-93fa-1e5d32082406"
      },
      "outputs": [
        {
          "data": {
            "text/html": [
              "<div>\n",
              "<style scoped>\n",
              "    .dataframe tbody tr th:only-of-type {\n",
              "        vertical-align: middle;\n",
              "    }\n",
              "\n",
              "    .dataframe tbody tr th {\n",
              "        vertical-align: top;\n",
              "    }\n",
              "\n",
              "    .dataframe thead th {\n",
              "        text-align: right;\n",
              "    }\n",
              "</style>\n",
              "<table border=\"1\" class=\"dataframe\">\n",
              "  <thead>\n",
              "    <tr style=\"text-align: right;\">\n",
              "      <th></th>\n",
              "      <th>signature</th>\n",
              "      <th>bucket_id</th>\n",
              "    </tr>\n",
              "  </thead>\n",
              "  <tbody>\n",
              "    <tr>\n",
              "      <th>0</th>\n",
              "      <td>[7, 5, 90, 107, 49, 34, 0, 34, 4, 76, 7, 61, 1...</td>\n",
              "      <td>[39, 171, 117, 33, 168, 167, 0, 125, 107, 29, ...</td>\n",
              "    </tr>\n",
              "    <tr>\n",
              "      <th>1</th>\n",
              "      <td>[1, 10, 90, 15, 55, 13, 37, 34, 4, 29, 8, 43, ...</td>\n",
              "      <td>[97, 160, 195, 133, 53, 8, 184, 150, 189, 182,...</td>\n",
              "    </tr>\n",
              "    <tr>\n",
              "      <th>2</th>\n",
              "      <td>[7, 5, 8, 1, 55, 34, 79, 22, 4, 76, 28, 64, 52...</td>\n",
              "      <td>[192, 101, 57, 130, 162, 6, 60, 78, 108, 64, 7...</td>\n",
              "    </tr>\n",
              "    <tr>\n",
              "      <th>3</th>\n",
              "      <td>[4, 5, 86, 27, 86, 34, 102, 34, 31, 76, 8, 72,...</td>\n",
              "      <td>[140, 22, 11, 126, 196, 151, 126, 66, 180, 147...</td>\n",
              "    </tr>\n",
              "    <tr>\n",
              "      <th>4</th>\n",
              "      <td>[87, 102, 160, 3, 116, 37, 132, 34, 4, 76, 8, ...</td>\n",
              "      <td>[199, 184, 62, 5, 98, 72, 142, 110, 197, 145, ...</td>\n",
              "    </tr>\n",
              "    <tr>\n",
              "      <th>...</th>\n",
              "      <td>...</td>\n",
              "      <td>...</td>\n",
              "    </tr>\n",
              "    <tr>\n",
              "      <th>5731</th>\n",
              "      <td>[7, 25, 18, 107, 37, 34, 27, 22, 4, 14, 16, 77...</td>\n",
              "      <td>[167, 53, 50, 175, 29, 193, 14, 154, 42, 101, ...</td>\n",
              "    </tr>\n",
              "    <tr>\n",
              "      <th>5732</th>\n",
              "      <td>[7, 5, 90, 1, 55, 34, 142, 22, 4, 76, 8, 84, 1...</td>\n",
              "      <td>[123, 155, 133, 179, 162, 13, 25, 73, 100, 160...</td>\n",
              "    </tr>\n",
              "    <tr>\n",
              "      <th>5733</th>\n",
              "      <td>[7, 5, 18, 1, 37, 127, 83, 22, 4, 76, 7, 72, 2...</td>\n",
              "      <td>[147, 31, 18, 21, 64, 107, 174, 19, 175, 12, 1...</td>\n",
              "    </tr>\n",
              "    <tr>\n",
              "      <th>5734</th>\n",
              "      <td>[1, 10, 90, 1, 84, 239, 132, 22, 59, 3, 16, 84...</td>\n",
              "      <td>[26, 93, 0, 165, 181, 177, 12, 65, 18, 178, 15...</td>\n",
              "    </tr>\n",
              "    <tr>\n",
              "      <th>5735</th>\n",
              "      <td>[179, 145, 355, 3, 199, 239, 79, 37, 114, 118,...</td>\n",
              "      <td>[9, 182, 150, 123, 24, 42, 18, 104, 81, 34, 55...</td>\n",
              "    </tr>\n",
              "  </tbody>\n",
              "</table>\n",
              "<p>5736 rows × 2 columns</p>\n",
              "</div>"
            ],
            "text/plain": [
              "                                              signature  \\\n",
              "0     [7, 5, 90, 107, 49, 34, 0, 34, 4, 76, 7, 61, 1...   \n",
              "1     [1, 10, 90, 15, 55, 13, 37, 34, 4, 29, 8, 43, ...   \n",
              "2     [7, 5, 8, 1, 55, 34, 79, 22, 4, 76, 28, 64, 52...   \n",
              "3     [4, 5, 86, 27, 86, 34, 102, 34, 31, 76, 8, 72,...   \n",
              "4     [87, 102, 160, 3, 116, 37, 132, 34, 4, 76, 8, ...   \n",
              "...                                                 ...   \n",
              "5731  [7, 25, 18, 107, 37, 34, 27, 22, 4, 14, 16, 77...   \n",
              "5732  [7, 5, 90, 1, 55, 34, 142, 22, 4, 76, 8, 84, 1...   \n",
              "5733  [7, 5, 18, 1, 37, 127, 83, 22, 4, 76, 7, 72, 2...   \n",
              "5734  [1, 10, 90, 1, 84, 239, 132, 22, 59, 3, 16, 84...   \n",
              "5735  [179, 145, 355, 3, 199, 239, 79, 37, 114, 118,...   \n",
              "\n",
              "                                              bucket_id  \n",
              "0     [39, 171, 117, 33, 168, 167, 0, 125, 107, 29, ...  \n",
              "1     [97, 160, 195, 133, 53, 8, 184, 150, 189, 182,...  \n",
              "2     [192, 101, 57, 130, 162, 6, 60, 78, 108, 64, 7...  \n",
              "3     [140, 22, 11, 126, 196, 151, 126, 66, 180, 147...  \n",
              "4     [199, 184, 62, 5, 98, 72, 142, 110, 197, 145, ...  \n",
              "...                                                 ...  \n",
              "5731  [167, 53, 50, 175, 29, 193, 14, 154, 42, 101, ...  \n",
              "5732  [123, 155, 133, 179, 162, 13, 25, 73, 100, 160...  \n",
              "5733  [147, 31, 18, 21, 64, 107, 174, 19, 175, 12, 1...  \n",
              "5734  [26, 93, 0, 165, 181, 177, 12, 65, 18, 178, 15...  \n",
              "5735  [9, 182, 150, 123, 24, 42, 18, 104, 81, 34, 55...  \n",
              "\n",
              "[5736 rows x 2 columns]"
            ]
          },
          "execution_count": 10,
          "metadata": {},
          "output_type": "execute_result"
        }
      ],
      "source": [
        "lsh.buckets"
      ]
    },
    {
      "cell_type": "code",
      "execution_count": 11,
      "metadata": {
        "id": "8gJ6gjjvSZ1P"
      },
      "outputs": [],
      "source": [
        "key = \"\"\"Phytoplasmas are insect-vectored bacteria that cause disease in a wide range of plant species. The increasing availability of molecular DNA analyses, expertise and additional methods in recent years has led to a proliferation of discoveries of phytoplasma-plant host associations and in the numbers of taxonomic groupings for phytoplasmas. The widespread use of common names based on the diseases with which they are associated, as well as separate phenetic and taxonomic systems for classifying phytoplasmas based on variation at the 16S rRNA-encoding gene, complicates interpretation of the literature. We explore this issue and related trends through a focus on Australian pathosystems, providing the first comprehensive compilation of information for this continent, covering the phytoplasmas, host plants, vectors and diseases. Of the 33 16Sr groups reported internationally, only groups I, II, III, X, XI and XII have been recorded in Australia and this highlights the need for ongoing biosecurity measures to prevent the introduction of additional pathogen groups. Many of the phytoplasmas reported in Australia have not been sufficiently well studied to assign them to 16Sr groups so it is likely that unrecognized groups and sub-groups are present. Wide host plant ranges are apparent among well studied phytoplasmas, with multiple crop and non-crop species infected by some. Disease management is further complicated by the fact that putative vectors have been identified for few phytoplasmas, especially in Australia. Despite rapid progress in recent years using molecular approaches, phytoplasmas remain the least well studied group of plant pathogens, making them a \"crouching tiger\" disease threat.\"\"\"\n",
        "candidate = lsh.approxNearestNeighbors(key, 10)"
      ]
    },
    {
      "cell_type": "code",
      "execution_count": 12,
      "metadata": {
        "colab": {
          "base_uri": "https://localhost:8080/",
          "height": 363
        },
        "id": "pClKcvA97XyS",
        "outputId": "b9b85f00-f524-4563-9d3e-c0266058ae15"
      },
      "outputs": [
        {
          "data": {
            "text/html": [
              "<div>\n",
              "<style scoped>\n",
              "    .dataframe tbody tr th:only-of-type {\n",
              "        vertical-align: middle;\n",
              "    }\n",
              "\n",
              "    .dataframe tbody tr th {\n",
              "        vertical-align: top;\n",
              "    }\n",
              "\n",
              "    .dataframe thead th {\n",
              "        text-align: right;\n",
              "    }\n",
              "</style>\n",
              "<table border=\"1\" class=\"dataframe\">\n",
              "  <thead>\n",
              "    <tr style=\"text-align: right;\">\n",
              "      <th></th>\n",
              "      <th>id</th>\n",
              "      <th>abstract</th>\n",
              "      <th>dis_col</th>\n",
              "    </tr>\n",
              "  </thead>\n",
              "  <tbody>\n",
              "    <tr>\n",
              "      <th>0</th>\n",
              "      <td>0</td>\n",
              "      <td>Phytoplasmas are insect-vectored bacteria that...</td>\n",
              "      <td>0.000000</td>\n",
              "    </tr>\n",
              "    <tr>\n",
              "      <th>1</th>\n",
              "      <td>375</td>\n",
              "      <td>Background and ObjectivePeriodontal disease is...</td>\n",
              "      <td>0.443038</td>\n",
              "    </tr>\n",
              "    <tr>\n",
              "      <th>2</th>\n",
              "      <td>5374</td>\n",
              "      <td>The focus of this work is to model the hydrode...</td>\n",
              "      <td>0.445783</td>\n",
              "    </tr>\n",
              "    <tr>\n",
              "      <th>3</th>\n",
              "      <td>3649</td>\n",
              "      <td>There are two adult life history types among l...</td>\n",
              "      <td>0.448718</td>\n",
              "    </tr>\n",
              "    <tr>\n",
              "      <th>4</th>\n",
              "      <td>4806</td>\n",
              "      <td>Rabies virus (RABV) remains one of the most im...</td>\n",
              "      <td>0.456790</td>\n",
              "    </tr>\n",
              "    <tr>\n",
              "      <th>5</th>\n",
              "      <td>121</td>\n",
              "      <td>Equivalently implementing a generalized memris...</td>\n",
              "      <td>0.458824</td>\n",
              "    </tr>\n",
              "    <tr>\n",
              "      <th>6</th>\n",
              "      <td>4519</td>\n",
              "      <td>The long-day plant Petunia x hybrida 'Fantasy ...</td>\n",
              "      <td>0.468354</td>\n",
              "    </tr>\n",
              "    <tr>\n",
              "      <th>7</th>\n",
              "      <td>2657</td>\n",
              "      <td>Background: Improving islet graft revasculariz...</td>\n",
              "      <td>0.468354</td>\n",
              "    </tr>\n",
              "    <tr>\n",
              "      <th>8</th>\n",
              "      <td>5507</td>\n",
              "      <td>Toxoplasma gondii iswidely distributed in huma...</td>\n",
              "      <td>0.469136</td>\n",
              "    </tr>\n",
              "    <tr>\n",
              "      <th>9</th>\n",
              "      <td>2427</td>\n",
              "      <td>The present study was aimed to evaluate the ne...</td>\n",
              "      <td>0.469880</td>\n",
              "    </tr>\n",
              "  </tbody>\n",
              "</table>\n",
              "</div>"
            ],
            "text/plain": [
              "     id                                           abstract   dis_col\n",
              "0     0  Phytoplasmas are insect-vectored bacteria that...  0.000000\n",
              "1   375  Background and ObjectivePeriodontal disease is...  0.443038\n",
              "2  5374  The focus of this work is to model the hydrode...  0.445783\n",
              "3  3649  There are two adult life history types among l...  0.448718\n",
              "4  4806  Rabies virus (RABV) remains one of the most im...  0.456790\n",
              "5   121  Equivalently implementing a generalized memris...  0.458824\n",
              "6  4519  The long-day plant Petunia x hybrida 'Fantasy ...  0.468354\n",
              "7  2657  Background: Improving islet graft revasculariz...  0.468354\n",
              "8  5507  Toxoplasma gondii iswidely distributed in huma...  0.469136\n",
              "9  2427  The present study was aimed to evaluate the ne...  0.469880"
            ]
          },
          "execution_count": 12,
          "metadata": {},
          "output_type": "execute_result"
        }
      ],
      "source": [
        "candidate"
      ]
    },
    {
      "cell_type": "markdown",
      "metadata": {
        "id": "xf_TpOgOfVcm"
      },
      "source": []
    },
    {
      "cell_type": "markdown",
      "metadata": {
        "id": "0-TGYLGX9tN_"
      },
      "source": [
        "## Câu 2: Large Data MinHashLSH"
      ]
    },
    {
      "cell_type": "markdown",
      "metadata": {
        "id": "MrCLyV8NS2yl"
      },
      "source": [
        "### Tạo Spark Context"
      ]
    },
    {
      "cell_type": "code",
      "execution_count": 13,
      "metadata": {
        "id": "9tDXFaDS21zi"
      },
      "outputs": [],
      "source": [
        "from pyspark import SparkContext\n",
        "\n",
        "sc = SparkContext(\"local\", \"Process 2\")"
      ]
    },
    {
      "cell_type": "code",
      "execution_count": 14,
      "metadata": {
        "id": "gKr0oMR3200v"
      },
      "outputs": [],
      "source": [
        "from pyspark.sql import SQLContext, SparkSession\n",
        "\n",
        "# Initialize SparkSession\n",
        "sparkSession = SparkSession.builder \\\n",
        "    .appName(\"Process 2\") \\\n",
        "    .getOrCreate()"
      ]
    },
    {
      "cell_type": "markdown",
      "metadata": {
        "id": "dRrbgWllobS4"
      },
      "source": [
        "### Đọc dữ liệu từ file"
      ]
    },
    {
      "cell_type": "code",
      "execution_count": 16,
      "metadata": {
        "colab": {
          "base_uri": "https://localhost:8080/"
        },
        "id": "QCKkEyAa2Vu3",
        "outputId": "c09e771f-4f5e-4b4b-dad4-37c600c1eea5"
      },
      "outputs": [
        {
          "name": "stdout",
          "output_type": "stream",
          "text": [
            "root\n",
            " |-- id: long (nullable = false)\n",
            " |-- abstract: string (nullable = true)\n",
            "\n",
            "+---+-------------------------------------------------------------------------------------------------------------------------------------------------------------------------------------------------------------------------------------------------------------------------------------------------------------------------------------------------------------------------------------------------------------------------------------------------------------------------------------------------------------------------------------------------------------------------------------------------------------------------------------------------------------------------------------------------------------------------------------------------------------------------------------------------------------------------------------------------------------------------------------------------------------------------------------------------------------------------------------------------------------------------------------------------------------------------------------------------------------------------------------------------------------------------------------------------------------------------------------------------------------------------------------------------------------------------------------------------------------------------------------------------------------------------------------------------------------------------------------------------------------------------------------------------------------------------------------------------------------------------------------------------------------------------------------------------------------------------------------------------------------------------------------------------------------------------------------------------------------------------------------------------------------------------------------------------------------------------------------------------------------------------------------------------------------------------------------------------------------------------------------------------------------------------------------------------------------------------------------------------------------------------------------------------------------------------------------------------------------------------------------------------------------------------------------------------------------------------------------------------------------------------------------------------------------------------------------+\n",
            "|id |abstract                                                                                                                                                                                                                                                                                                                                                                                                                                                                                                                                                                                                                                                                                                                                                                                                                                                                                                                                                                                                                                                                                                                                                                                                                                                                                                                                                                                                                                                                                                                                                                                                                                                                                                                                                                                                                                                                                                                                                                                                                                                                                                                                                                                                                                                                                                                                                                                                                                                                                                                                                                             |\n",
            "+---+-------------------------------------------------------------------------------------------------------------------------------------------------------------------------------------------------------------------------------------------------------------------------------------------------------------------------------------------------------------------------------------------------------------------------------------------------------------------------------------------------------------------------------------------------------------------------------------------------------------------------------------------------------------------------------------------------------------------------------------------------------------------------------------------------------------------------------------------------------------------------------------------------------------------------------------------------------------------------------------------------------------------------------------------------------------------------------------------------------------------------------------------------------------------------------------------------------------------------------------------------------------------------------------------------------------------------------------------------------------------------------------------------------------------------------------------------------------------------------------------------------------------------------------------------------------------------------------------------------------------------------------------------------------------------------------------------------------------------------------------------------------------------------------------------------------------------------------------------------------------------------------------------------------------------------------------------------------------------------------------------------------------------------------------------------------------------------------------------------------------------------------------------------------------------------------------------------------------------------------------------------------------------------------------------------------------------------------------------------------------------------------------------------------------------------------------------------------------------------------------------------------------------------------------------------------------------------------+\n",
            "|0  |Phytoplasmas are insect-vectored bacteria that cause disease in a wide range of plant species. The increasing availability of molecular DNA analyses, expertise and additional methods in recent years has led to a proliferation of discoveries of phytoplasma-plant host associations and in the numbers of taxonomic groupings for phytoplasmas. The widespread use of common names based on the diseases with which they are associated, as well as separate phenetic and taxonomic systems for classifying phytoplasmas based on variation at the 16S rRNA-encoding gene, complicates interpretation of the literature. We explore this issue and related trends through a focus on Australian pathosystems, providing the first comprehensive compilation of information for this continent, covering the phytoplasmas, host plants, vectors and diseases. Of the 33 16Sr groups reported internationally, only groups I, II, III, X, XI and XII have been recorded in Australia and this highlights the need for ongoing biosecurity measures to prevent the introduction of additional pathogen groups. Many of the phytoplasmas reported in Australia have not been sufficiently well studied to assign them to 16Sr groups so it is likely that unrecognized groups and sub-groups are present. Wide host plant ranges are apparent among well studied phytoplasmas, with multiple crop and non-crop species infected by some. Disease management is further complicated by the fact that putative vectors have been identified for few phytoplasmas, especially in Australia. Despite rapid progress in recent years using molecular approaches, phytoplasmas remain the least well studied group of plant pathogens, making them a \"crouching tiger\" disease threat.                                                                                                                                                                                                                                                                                                                                                                                                                                                                                                                                                                                                                                                                                                                                                                                                     |\n",
            "|1  |Background: (-)-alpha-Bisabolol, also known as levomenol, is an unsaturated sesquiterpene alcohol that has mainly been used in pharmaceutical and cosmetic products due to its anti-inflammatory and skin-soothing properties. (-)-alpha-Bisabolol is currently manufactured mainly by steam-distillation of the essential oils extracted from the Brazilian candeia tree that is under threat because its natural habitat is constantly shrinking. Therefore, microbial production of (-)-alpha-bisabolol plays a key role in the development of its sustainable production from renewable feedstock. Results: Here, we created an Escherichia coli strain producing (-)-alpha-bisabolol at high titer and developed an in situ extraction method of (-)-alpha-bisabolol, using natural vegetable oils. We expressed a recently identified (-)-alpha-bisabolol synthase isolated from German chamomile (Matricaria recutita) (titer: 3 mg/L), converted the acetyl-CoA to mevalonate, using the biosynthetic mevalonate pathway (12.8 mg/L), and overexpressed farnesyl diphosphate synthase to efficiently supply the (-)-alpha-bisabolol precursor farnesyl diphosphate. Combinatorial expression of the exogenous mevalonate pathway and farnesyl diphosphate synthase enabled a dramatic increase in (-)-alpha-bisabolol production in the shake flask culture (80 mg/L) and 5 L bioreactor culture (342 mg/L) of engineered E. coli harboring (-)-alpha-bisabolol synthase. Fed-batch fermentation using a 50 L fermenter was conducted after optimizing culture conditions, resulting in efficient (-)-alpha-bisabolol production with a titer of 9.1 g/L. Moreover, a green, downstream extraction process using vegetable oils was developed for in situ extraction of (-)-alpha-bisabolol during fermentation and showed high yield recovery (>98%). Conclusions: The engineered E. coli strains and economically viable extraction process developed in this study will serve as promising platforms for further development of microbial production of (-)-alpha-bisabolol at large scale.                                                                                                                                                                                                                                                                                                                                                                                                                                                                               |\n",
            "|2  |A universal feature of the replication of positive-strand RNA viruses is the association with intracellular membranes. Carnation Italian ringspot virus (CIRV) replication in plants occurs in vesicles derived from the mitochondrial outer membrane. The product encoded by CIRV ORF1, p36, is required for targeting the virus replication complex to the outer mitochondrial membrane both in plant and yeast cells. Here the yeast Saccharomyces cerevisiae was used as a model host to study the effect of CIRV p36 on cell survival and death. It was shown that p36 does not promote cell death, but decreases cell growth rate. In addition, p36 changed the nature of acetic acid-induced cell death in yeast by increasing the number of cells dying by necrosis with concomitant decrease of the number of cells dying by programmed cell death, as judged by measurements of phosphatidylserine externalization. The tight association of p36 to membranes was not affected by acetic acid treatment, thus confirming the peculiar and independent interaction of CIRV p36 with mitochondria in yeast. This work proved yeast as an invaluable model organism to study both the mitochondrial determinants of the type of cell death in response to stress and the molecular pathogenesis of (+)RNA viruses. (C) 2016 Elsevier Ireland Ltd. All rights reserved.                                                                                                                                                                                                                                                                                                                                                                                                                                                                                                                                                                                                                                                                                                                                                                                                                                                                                                                                                                                                                                                                                                                                                                                                        |\n",
            "|3  |1,2-Dichloropropane (1,2-DCP) and dichloromethane (DCM) are possible causative agents associated with the development of cholangiocarcinoma in employees working in printing plant in Osaka, Japan. However, few reports have demonstrated an association between these agents and cholangiocarcinoma in rodent carcinogenicity studies. Moreover, the combined effects of these compounds have not been fully elucidated. In the present study, we evaluated the in vivo mutagenicity of 1,2-DCP and DCM, alone or combined, in the livers of gpt delta rats. Six-week-old male F344 gpt delta rats were treated with 1,2-DCP, DCM or 1,2-DCP+DCM by oral administration for 4weeks at the dose (200mgkg(-1) body weight 1,2-DCP and 500mgkg(-1) body weight DCM) used in the carcinogenesis study performed by the National Toxicology Program. In vivo mutagenicity was analyzed by gpt mutation/Spi(-) assays in the livers of rats. In addition, gene and protein expression of CYP2E1 and GSTT1, the major enzymes responsible for the genotoxic effects of 1,2-DCP and DCM, were analyzed by quantitative polymerase chain reaction and western blotting. Gpt and Spi(-) mutation frequencies were not increased by 1,2-DCP and/or DCM in any group. Additionally, there were no significant changes in the gene and protein expression of CYP2E1 and GSTT1 in any group. These results indicated that 1,2-DCP, DCM and 1,2-DCP+DCM had no significant impact on mutagenicity in the livers of gpt delta rats under our experimental conditions. Copyright (c) 2016 John Wiley & Sons, Ltd.                                                                                                                                                                                                                                                                                                                                                                                                                                                                                                                                                                                                                                                                                                                                                                                                                                                                                                                                                                                   |\n",
            "|4  |This paper presents the simulation results of a linear, fully integrated, two-stage digitally programmable 130 nm CMOS power amplifier (PA) operating at 2.4 GHz. Its power stage is composed of a set of amplifying cells which can be enabled or disabled independently by a digital control circuit. All seven operational modes are univocal in terms of 1 dB output compression point (OCP1dB), saturated output power (P-SAT) and power gain at 2.4 GHz. The lowest power mode achieves an 8.1 dBm P-SAT, a 13.5 dB power gain and consumes 171 mW DC power (P-DC) at an OCP1dB of 6 dBm, whereas the highest power mode reaches an 18.9 dBm P-SAT and a 21.1 dB power gain and consumes 415 mW P-DC at an OCP1dB of 18.2 dBm.                                                                                                                                                                                                                                                                                                                                                                                                                                                                                                                                                                                                                                                                                                                                                                                                                                                                                                                                                                                                                                                                                                                                                                                                                                                                                                                                                                                                                                                                                                                                                                                                                                                                                                                                                                                                                                                 |\n",
            "|5  |The glycogen branching enzyme (EC 2.4.1.18), which catalyses the formation of alpha-1,6-glycosidic branch points in glycogen structure, is often used to enhance the nutritional value and quality of food and beverages. In order to be applicable in industries, enzymes that are stable and active at high temperature are much desired. Using genome mining, the nucleotide sequence of the branching enzyme gene (glgB) was extracted from the Geobacillus mahadia Geo-05 genome sequence provided by the Malaysia Genome Institute. The size of the gene is 2013 bp, and the theoretical molecular weight of the protein is 78.43 kDa. The gene sequence was then used to predict the thermostability, function and the three dimensional structure of the enzyme. The gene was cloned and overexpressed in E. coli to verify the predicted result experimentally. The purified enzyme was used to study the effect of temperature and pH on enzyme activity and stability, and the inhibitory effect by metal ion on enzyme activity. This thermostable glycogen branching enzyme was found to be most active at 55 degrees C, and the half-life at 60 degrees C and 70 degrees C was 24 h and 5 h, respectively. From this research, a thermostable glycogen branching enzyme was successfully isolated from Geobacillus mahadia Geo-05 by genome mining together with molecular biology technique.                                                                                                                                                                                                                                                                                                                                                                                                                                                                                                                                                                                                                                                                                                                                                                                                                                                                                                                                                                                                                                                                                                                                                                          |\n",
            "|6  |The microbial populations in the activated sludge of two Polish wastewater treatment plants (WWTPs) were identified and quantified using Illumina sequencing of 16S ribosomal RNA amplicons over a 2-year period. Their dynamics over time were compared to Danish WWTPs (data collected in previous studies by Center for Microbial Communities, Aalborg University). The bacterial communities in Polish and Danish WWTPs were similar to each other, but the microbial diversity in Polish WWTPs was lower. The dominant genera in Polish WWTPs were more abundant than in Danish WWTPs; 30 of them constituted more than half the of activated sludge community. Polish WWTPs showed a higher abundance of bacteria involved in nitrogen and chemical oxygen demand removal (Proteobacteria and Bacteroidetes), while polyphosphate-acculumating bacteria were the dominant bacterial group in Danish plants. The microbial community structures in the examined Polish WWTPs were relatively similar to each other and showed strong seasonal variations which are not normally observed in Danish WWTPs.                                                                                                                                                                                                                                                                                                                                                                                                                                                                                                                                                                                                                                                                                                                                                                                                                                                                                                                                                                                                                                                                                                                                                                                                                                                                                                                                                                                                                                                                       |\n",
            "|7  |Background: Broad-range 16S rRNA PCR can be used for the detection and identification of bacteria from clinical specimens in patients for whom there is a high suspicion of infection and cultures are negative. The aims of this study were (1) to compare 16S rRNA PCR results with microbiolog ical culture results, (2) to assess the utility of 16S rRNA PCR with regard to antimicrobial therapy, and (3) to compare the yield of 16S rRNA PCR for different types of clinical specimen and to perform a cost analysis of the test. Methods: A retrospective study was performed on different clinical specimens which had 16S performed over 3 years (2012-2015). Standard microbiological cultures were performed on appropriate media, as per the laboratory protocol. Patient clinical and microbiological data were obtained from the electronic medical records and laboratory information system, respectively. 16S rRNA PCR was performed in a reference laboratory using a validated method for amplification and sequencing. The outcomes assessed were the performance of 16S rRNA PCR, change of antimicrobials (rationalization, cessation, or addition), and duration of therapy. Concordance of 16S rRNA PCR with bacterial cultures was also determined for tissue specimens. Results: Thirty-two patients were included in the study, for whom an equal number of specimens (n = 32) were sent for 16S rRNA PCR. 16S rRNA PCR could identify an organism in 10 of 32 cases (31.2%), of which seven were culture-positive and three were culture-negative. The sensitivity was 58% (confidence interval (CI) 28.59-83.5%) and specificity was 85% (CI 61.13-96%), with a positive predictive value of 70% (CI 35.3-91.9%) and negative predictive value of 77.2% (CI 54.17-91.3%). Antimicrobial therapy was rationalized after 16S rRNA PCR results in five patients (15.6%) and was ceased in four based on negative results (12.5%). Overall the 16S rRNA PCR result had an impact on antimicrobial therapy in 28% of patients (9/32). The highest concordance of 16S rRNA PCR with bacterial culture was found for heart valve tissue (80%), followed by joint fluid/tissue (50%). Conclusions: Despite the low diagnostic yield, results of 16S rRNA PCR can still have a significant impact on patient management due to rationalization or cessation of the antimicrobial therapy. The yield of 16S rRNA PCR was highest for heart valves. (C) 2017 The Author(s). Published by Elsevier Ltd on behalf of International Society for Infectious Diseases.|\n",
            "|8  |Brinjal little leaf (BLL) is a widespread disease of phytoplasma etiology in India that induces severe economic losses. Surveys were conducted in eight brinjalgrowing states of India during July 2014 to September 2015 and eighteen BLL samples showing little leaf, phyllody and witches' broom symptoms were collected for phytoplasma identification. Presence of phytoplasmas was confirmed in all the eighteen BLL samples using polymerase chain reaction with phytoplasma-specific primer pairs (P1/P6, R16F2n/R16R2). Pair wise sequence comparison and phylogenetic relationship of 16S rRNA gene sequences of BLL phytoplasma strains confirmed that sixteen out of eighteen BLL strains belonged to clover proliferation phytoplasma (16SrVI) group and two BLL strains (GKP-A and GKP-B) from Gorakhpur, Uttar Pradesh, were classified under 16SrII group. Further virtual RFLP analysis of 16S rDNA sequences allowed finer classification of BLL strains into 16SrII-D and 16SrVI-D subgroups. BLL phytoplasma strains belonging to 16SrVI-D subgroup were found as the most widespread phytoplasma strains associated with BLL disease in India. 16SrVI-D subgroup phytoplasma association with two symptomatic weed species viz. Cannabis sativa subsp. sativa at Noida, Uttar Pradesh and Portulaca oleracea at IARI fields, New Delhi was also confirmed by nested PCR assays with similar set of phytoplasma-specific primers, pairwise 16S rDNA sequence comparison, phylogeny and virtual RFLP analysis. Out of five identified leafhopper species from BLL-infected fields at Noida, Uttar Pradesh and Delhi, only Hishimonas phycitis was identified as carrier and natural vector of 16SrVI-D subgroup of phytoplasmas by nested PCR assays, sequence comparison, phylogeny, virtual RFLP analysis and transmission assays.                                                                                                                                                                                                                                                                                                                                                                                                                                                                                                                                                                                                                                                                                                                              |\n",
            "|9  |Surveys for the Cote d'Ivoire lethal yellowing (CILY) phytoplasma were conducted in eight severely CILY-affected villages of Grand-Lahou in 2015. Leaves, inflorescences and trunk borings were collected from coconut palms showing CILY symptoms and from symptomless trees. Total DNA was extracted from these samples and tested by nested polymerase chain reaction/RFLP and sequence analysis of the 16S rRNA, ribosomal protein (rp) and the translocation protein (secA) genes. The CILY phytoplasma was detected in 82.9% of the symptom-bearing palms collected from all the surveyed villages and from all the plant parts. Trunk borings were recommended as the most suitable plant tissue type for sampling. Results indicate that the CILY phytoplasma may have a westward spread to other coconut-growing areas of Grand-Lahou. CILY phytoplasma strains infecting coconut palms in the western region of Grand-Lahou exhibited unique single nucleotide polymorphisms on the rp sequence compared to the strains from the eastern region. Moreover, single nucleotide polymorphisms on the SecA sequence distinguished the CILY phytoplasma from the Cape St. Paul Wilt Disease phytoplasma in Ghana, and the Lethal Yellowing phytoplasma in Mozambique.                                                                                                                                                                                                                                                                                                                                                                                                                                                                                                                                                                                                                                                                                                                                                                                                                                                                                                                                                                                                                                                                                                                                                                                                                                                                                                           |\n",
            "|10 |Advances in sequencing technologies continue to provide unprecedented opportunities to characterize microbial communities. For example, the Pacific Biosciences Single Molecule Real-Time (SMRT) platform has emerged as a unique approach harnessing DNA polymerase activity to sequence template molecules, enabling long reads at low costs. With the aim to simultaneously classify and enumerate in situ microbial populations, we developed a quantitative SMRT (qSMRT) approach that involves the addition of exogenous standards to quantify ribosomal amplicons derived from environmental samples. The V7-9 regions of 18S SSU rDNA were targeted and quantified from protistan community samples collected in the Ross Sea during the Austral summer of 2011. We used three standards of different length and optimized conditions to obtain accurate quantitative retrieval across the range of expected amplicon sizes, a necessary criterion for analyzing taxonomically diverse 18S rDNA molecules from natural environments. The ability to concurrently identify and quantify microorganisms in their natural environment makes qSMRT a powerful, rapid and cost-effective approach for defining ecosystem diversity and function. (C) 2017 Elsevier B.V. All rights reserved.                                                                                                                                                                                                                                                                                                                                                                                                                                                                                                                                                                                                                                                                                                                                                                                                                                                                                                                                                                                                                                                                                                                                                                                                                                                                                      |\n",
            "|11 |1A6/DRIM is a nucleolar protein with a nucleolar targeting sequence in its 3'-terminus. Bioinformatic analysis indicated that human 1A6/ DRIM shares 23% identity and 43% similarity with yeast Utp20, which has been reported as a component of U3 snoRNA protein complex and has been implicated in 18S rRNA processing. In the present study, we found, by utilizing RT-PCR with RNA extracted from anti-1A6/DRIM inummoprecipitates and Northern blotting, that 1A6/DRIM is associated with U3 snoRNA. Pulse-chase labeling assays showed that silencing of 1A6/DRIM expression in HeLa cells resulted in a delayed 18S rRNA processing. Furthermore, immunoprecipitations revealed that 1A6/DRIM was also associated with fibrillarin, another U3 RNP component in HeLa cells. These results indicate that 1A6/DRIM is involved in 18S rRNA processing and is the bona fide mammalian Utp20. (c) 2007 Elsevier B.V. All rights reserved.                                                                                                                                                                                                                                                                                                                                                                                                                                                                                                                                                                                                                                                                                                                                                                                                                                                                                                                                                                                                                                                                                                                                                                                                                                                                                                                                                                                                                                                                                                                                                                                                                                        |\n",
            "|12 |Aims: 22q11.2 deletion syndrome (22q11.2DS) is a neurogenetic condition associated with an increased risk of developing schizophrenia. Previous studies have shown that negative symptoms represent the most specific clinical characteristic of psychosis in 22q11.2DS and are strongly associated with outcome. However, the psychological mechanisms associated with these symptoms in this population are poorly understood. In accordance with recent conceptualizations in the field of schizophrenia, the present study aims at investigating whether negative symptoms are associated with the presence of negative performance beliefs and cognitive deficits. Methods: Thirty-five participants with 22q11.2DS and 24 typically developing individuals aged between 11 and 24 years were included in the study. Self-reported schizotypal symptoms (cognitive-perceptual, paranoid, negative and disorganization symptoms) and dysfunctional beliefs (negative performance beliefs and need for approval) were assessed. Measures of processing speed, verbal memory, working memory, executive functioning and face recognition-were also extracted from a broad cognitive evaluation protocol. Results: Adolescents with 22q11.2DS reported significantly higher score on the negative dimension of the Schizotypal Personality Questionnaire than controls, even when controlling for the influence of anxiety/depression and intellectual functioning. Negative and paranoid symptoms were associated with the severity of negative performance beliefs and lower face recognition abilities. Mediation analyses revealed that negative performance beliefs significantly mediated the association between face recognition and negative/paranoid symptoms. Conclusions: These findings suggest that negative performance beliefs and basic social cognitive mechanisms are associated with negative and paranoid symptoms in individuals with 22q11.2DS. Implications for intervention are discussed in this article.                                                                                                                                                                                                                                                                                                                                                                                                                                                                                                                                                 |\n",
            "|13 |Background: Chromosome 22q11.2 deletion syndrome (22q11.2DS) is a neurogenetic disorder that is associated with a 25-fold increase in schizophrenia. Both individuals with 22q11.2DS and those with schizophrenia present with social cognitive deficits, which are putatively subserved by a network of brain regions that are involved in the processing of social cognitive information. This study used two-tensor tractography to examine the white matter tracts believed to underlie the social brain network in a group of 57 young adults with 22q11.2DS compared to 30 unaffected controls. Results: Results indicated that relative to controls, participants with 22q11.2DS showed significant differences in several DTI metrics within the inferior fronto-occipital fasciculus, cingulum bundle, thalamo-frontal tract, and inferior longitudinal fasciculus. In addition, participants with 22q11.2DS showed significant differences in scores on measures of social cognition, including the Social Responsiveness Scale and Trait Emotional Intelligence Questionnaire. Further analyses among individuals with 22q11.2DS demonstrated an association between DTI metrics and positive and negative symptoms of psychosis, as well as differentiation between individuals with 22q11.2DS and overt psychosis, relative to those with positive prodromal symptoms or no psychosis. Conclusions: Findings suggest that white matter disruption, specifically disrupted axonal coherence in the right inferior fronto-occipital fasciculus, may be a biomarker for social cognitive difficulties and psychosis in individuals with 22q11.2DS.                                                                                                                                                                                                                                                                                                                                                                                                                                                                                                                                                                                                                                                                                                                                                                                                                                                                                                                         |\n",
            "|14 |Through the comprehensive analysis of the genomic DNA sequence of human chromosome 22, we identified a novel gene of 702 kb encoding a big protein of 2481 amino acid residues, and named it as TPRBK (TPR containing big gene cloned at Keio). A novel protein TPRBK possesses 25 units of the TPR motif, which has been known to associate with a diverse range of biological functions. Orthologous genes of human TPRBK were found widely in animal species, from insecta to mammal, but not found in plants, fungi and nematoda. Northern blotting and RT-PCR analyses revealed that TPRBK gene is expressed ubiquitously in the human and mouse fetal tissues and various cell lines of human, monkey and mouse. lmmunofluorescent staining of the synchronized monkey COS-7 cells with several relevant antibodies indicated that TPRBK changes its subcellular localization during the cell cycle: at interphase TPRBK locates on the centrosomes, during mitosis it translocates from spindle poles to mitotic spindles then to spindle midzone, and through a period of cytokinesis it stays on the midbody. Co-immunoprecipitation assay and immunofluorescent staining with adequate antibodies revealed that TPRBK binds to Aurora B. and those proteins together translocate throughout mitosis and cytokinesis. Treatments of cells with two drugs (Blebbistatin and Y-27632), that are known to inhibit the contractility of actin-myosin, disturbed the proper intracellular localization of TPRBK. Moreover, the knockdown of TPRBK expression by small interfering RNA (siRNA) suppressed the bundling of spindle midzone microtubules and disrupted the midbody formation, arresting the cells at G(2) + M phase. These observations indicated that a novel big protein TPRBK is essential for the formation and integrity of the midbody, hence we postulated that TPRBK plays a critical role in the progress of mitosis and cytokinesis during mammalian cell cycle. (C) 2012 Elsevier B.V. All rights reserved.                                                                                                                                                                                                                                                                                                                                                                                                                                                                                                                                              |\n",
            "|15 |Graphene and other two-dimensional materials have received considerable attention regarding their potential applications in nano-electronics. Here, we report top-gate nonvolatile memory field-effect transistors (FETs) with different layers of MoSe2 nanosheets channel gated by ferroelectric film. The conventional gate dielectric of FETs was replaced by a ferroelectric thin film that provides a ferroelectric polarization electric field, and therefore defined as an Fe-FET where the poly (vinylidene fluoride-trifluoroethylene) (P(VDF-TrFE)) was used as the gate dielectric. Among the devices with MoSe2 channels of different thicknesses, the device with a single layer of MoSe2 exhibited a large hysteresis of electronic transport with an over 10(5) write/erase ratio, and displayed excellent retention and endurance performance. The possible mechanism of the device's good properties was qualitatively analyzed using band theory. Additionally, a comprehensive study comparing the memory properties of MoSe2 channels of different thicknesses is presented. Increasing the numbers of MoSe2 layers was found to cause a reduced memory window. However, MoSe2 thickness of 5 nm yielded a write/erase ratio of more than 10(3). The results indicate that, based on a Fe-FET structure, the combination of two-dimensional semiconductors and organic ferroelectric gate dielectrics shows good promise for future applications in nonvolatile ferroelectric memory.                                                                                                                                                                                                                                                                                                                                                                                                                                                                                                                                                                                                                                                                                                                                                                                                                                                                                                                                                                                                                                                                           |\n",
            "|16 |Relationships between the abundance of potential geosmin- and 2-methylisoborneol-producing (2-MIB) cyanobacteria and bacteria, and concentrations of the two taste and odour compounds (T&Os) were examined in a 7 day incubation of natural water from the surface and bottom of three reservoirs in southeast Queensland, Australia. Only a single known T&O-producing cyanobacterium (Geitlerinema spp.) was detected by microscopy at low density, and only in one reservoir. Densities of potential T&O-producing Streptomyces (determined by quantitative polymerase chain reaction (qPCR) assay) were highest in the bottom water and varied from 0.7 x 10(3) to 775 x 10(3) cells L-1. Geosmin ranged from 6 to 59 ng L-1 (with the highest concentrations in the bottom water), while 2-MIB varied from 6 to 47 ng L-1 (with the highest concentration in surface water). Concentrations of both compounds declined during the incubation under both light and dark conditions. Presence of the geosmin synthase gene, geoA, in cyanobacteria and Streptomyces was examined by different PCR approaches. Cloning of PCR products from amplification of geoA showed a high similarity to geoA in cyanobacteria, but not to streptomycetes. Our results demonstrate that more research on the ecology and molecular biology of T&O producers is required to better understand the dynamics of T&Os and to monitor emerging T&O episodes.                                                                                                                                                                                                                                                                                                                                                                                                                                                                                                                                                                                                                                                                                                                                                                                                                                                                                                                                                                                                                                                                                                                                      |\n",
            "|17 |We have carried out animal toxicity tests of chemicals for a chemical safety program implemented by the Ministry of Economy, Trade, and Industry of Japan. Here, we tested 1-tert-butoxy-4-chlorobenzene in a combined repeat-dose and developmental and reproductive toxicity test. The test chemical was administered daily by gavage to 9-week-old Crl:CD (SD) rats at doses of 0, 20, 100, and 500 mg/kg/d. Males were treated for 42 d beginning 14 d before mating. Females were treated from 14 d before mating to day 4 of lactation. Decreased spontaneous locomotion, decreased respiratory rate, and incomplete eyelid opening were observed at 500 mg/kg/d (both sexes), but resolved within 30 min of administration, suggesting central nervous system depression. No notable changes were observed in body weight, food consumption, functional battery tests, or blood test. Increased liver weight with centrilobular or diffuse hepatocyte hypertrophy was observed at 100 and 500 mg/kg/d (both sexes). There were no biochemical or histopathological changes related to hepatotoxicity. Increased kidney weight with basophilic tubules, tubule dilatation, and increased hyaline droplets were observed in males dosed at 100 and 500 mg/kg/d. Immunohistochemical staining indicated alpha(2u)-globulin nephropathy, a male rat-specific toxicity. Although kidney weight was also increased in females dosed at 500 mg/kg/d, it was not considered to be an adverse effect because there were no histopathological changes. Pup weights on postnatal day 0 were decreased at 500 mg/kg/d and still decreased on postnatal day 4. Our data indicated the no-observed-adverse-effect-level for repeated-dose and reproductive/developmental toxicity for 1-tert-butoxy-4-chlorobenzene was 100 mg/kg/d.                                                                                                                                                                                                                                                                                                                                                                                                                                                                                                                                                                                                                                                                                                                                                        |\n",
            "|18 |The mu-opioid receptor (MOR) plays a mandatory role in the action of most opioid drugs, such as morphine, fentanyl, and heroin. it has been revealed that a deficiency in the MOR gene (Oprm 1) or a difference in the 3' noncoding region of the gene markedly affects the sensitivity of mice to opioids. As the 3' noncoding region of the human OPRM1 gene had not yet been characterized, in the present study we conducted 3'-rapid amplification of cDNA ends (3'RACE)-PCR and identified the 3' end of the human MOR-1 mRNA, the most abundant transcript among OPRM1 gene transcripts. The poly(A) signal was located at 13612-13617 nucleotides downstream from the stop codon in the OPRM1 gene. Reverse transcription PCR analyses showed that the region from the stop codon to the poly(A) signal was transcribed. In the 3' UTR, we identified 33 AU-rich regions and more than 300 putative transcription factor-binding sites. Furthermore, we compared the 3' noncoding regions of the human and mouse OPRM1/Oprm1] genes and found apparent homology. In Northern blotting with mouse brain mRNAs, a same-size band was detected by a probe for the MOR-1 coding region and by a probe for a mouse genome region corresponding to the human MOR-1 3'UTR. Since 3'UTRs affect gene expression, the present characterization of the 3' noncoding region in the human OPRM1 gene should lead to a better understanding of the mechanisms underlying OPRM1 gene regulation and individual differences in sensitivity to opioids. Published by Elsevier B.V.                                                                                                                                                                                                                                                                                                                                                                                                                                                                                                                                                                                                                                                                                                                                                                                                                                                                                                                                                                                                           |\n",
            "|19 |An integrated electronic-photonic phase-locked loop (PLL) modulates the frequency of a tunable laser for use in frequency-modulated continuous-wave (FMCW) lidar 3D imaging. The proposed lidar can perform 180k range measurements per second. The rms depth precision is 8 mu m at distances of +/- 5 cm from the range baseline. The range window is 1.4 m, with a precision of 4.2 mm at the edges of the window. Optical circuitry, including input light couplers, waveguides, and photodiodes, is realized on a 3 mm x 3 mm silicon-photonic chip. The 0.18-mu m CMOS ASIC of the same area comprises the frontend transimpedance amplifier, analog electro-optical PLL, and digital control circuitry consuming 1.7 mA from a 1.8 V supply and 14.1 mA from a 5-V supply. The latter includes 12.5-mA bias current for the distributed Bragg reflector section of the tunable laser. The two chips are integrated using through-silicon-vias implemented in the silicon-photonic chip.                                                                                                                                                                                                                                                                                                                                                                                                                                                                                                                                                                                                                                                                                                                                                                                                                                                                                                                                                                                                                                                                                                                                                                                                                                                                                                                                                                                                                                                                                                                                                                                       |\n",
            "+---+-------------------------------------------------------------------------------------------------------------------------------------------------------------------------------------------------------------------------------------------------------------------------------------------------------------------------------------------------------------------------------------------------------------------------------------------------------------------------------------------------------------------------------------------------------------------------------------------------------------------------------------------------------------------------------------------------------------------------------------------------------------------------------------------------------------------------------------------------------------------------------------------------------------------------------------------------------------------------------------------------------------------------------------------------------------------------------------------------------------------------------------------------------------------------------------------------------------------------------------------------------------------------------------------------------------------------------------------------------------------------------------------------------------------------------------------------------------------------------------------------------------------------------------------------------------------------------------------------------------------------------------------------------------------------------------------------------------------------------------------------------------------------------------------------------------------------------------------------------------------------------------------------------------------------------------------------------------------------------------------------------------------------------------------------------------------------------------------------------------------------------------------------------------------------------------------------------------------------------------------------------------------------------------------------------------------------------------------------------------------------------------------------------------------------------------------------------------------------------------------------------------------------------------------------------------------------------------+\n",
            "only showing top 20 rows\n",
            "\n"
          ]
        }
      ],
      "source": [
        "from pyspark.ml.linalg import Vectors, SparseVector, VectorUDT, DenseVector\n",
        "import pyspark.sql.functions as F\n",
        "import pyspark.sql.types as T\n",
        "\n",
        "abstracts_df = sparkSession.read.text(\"WebOfScience-5736.txt\")\n",
        "abstracts_df = abstracts_df.withColumn(\"id\", F.monotonically_increasing_id())\n",
        "\n",
        "# Reorder the columns\n",
        "abstracts_df = abstracts_df.select(\"id\", \"value\")\n",
        "\n",
        "# Rename the \"value\" column to \"abstract\"\n",
        "abstracts_df = abstracts_df.withColumnRenamed(\"value\", \"abstract\")\n",
        "\n",
        "# Show the DataFrame schema and some sample data\n",
        "abstracts_df.printSchema()\n",
        "abstracts_df.show(truncate=False)"
      ]
    },
    {
      "cell_type": "code",
      "execution_count": 17,
      "metadata": {
        "colab": {
          "base_uri": "https://localhost:8080/"
        },
        "id": "klVeszl38Fkv",
        "outputId": "3dae11ee-2ab2-491a-c4e0-99c5d0fcf7a1"
      },
      "outputs": [
        {
          "data": {
            "text/plain": [
              "5736"
            ]
          },
          "execution_count": 17,
          "metadata": {},
          "output_type": "execute_result"
        }
      ],
      "source": [
        "abstracts_df.count()"
      ]
    },
    {
      "cell_type": "markdown",
      "metadata": {
        "id": "_Ilu9Ewnoemk"
      },
      "source": [
        "### Tạo lớp đối tượng LargeDataMinHashLSH"
      ]
    },
    {
      "cell_type": "code",
      "execution_count": 18,
      "metadata": {
        "id": "tQmRJKPPoWv6"
      },
      "outputs": [],
      "source": [
        "class LargeDataMinHashLSH():\n",
        "    def __init__(\n",
        "            self,\n",
        "            documents: pyspark.sql.DataFrame,\n",
        "            k = 2,\n",
        "            num_per = 10,\n",
        "            bands = 10,\n",
        "        ):\n",
        "        self.documents = documents\n",
        "        self.k = k\n",
        "        self.num_per = num_per\n",
        "        self.bands = bands\n",
        "        self.band_size = num_per // bands\n",
        "\n",
        "    def __shingle(text, k = 3):\n",
        "        shingle_set = []\n",
        "        text = text.lower()\n",
        "        for i in range(len(text) - k+1):\n",
        "            shingle_set.append(text[i:i+k])\n",
        "        return list(set(shingle_set))\n",
        "\n",
        "    def __convert_to_bv(\n",
        "                x: list,\n",
        "                all_shingles: list,\n",
        "        ) -> SparseVector:\n",
        "        all_idx = [all_shingles.index(i) for i in x]\n",
        "        all_idx.sort()\n",
        "\n",
        "        return Vectors.sparse(len(all_shingles), all_idx, [1] * len(all_idx))\n",
        "\n",
        "\n",
        "    def shingling(\n",
        "            self,\n",
        "            documents: pyspark.sql.DataFrame,\n",
        "            k = 2\n",
        "        ) -> pyspark.sql.DataFrame:\n",
        "\n",
        "        # Apply the shingle UDF to the documents DataFrame\n",
        "        shingle_udf = F.udf(\n",
        "                          lambda x: LargeDataMinHashLSH.__shingle(x, k = k),\n",
        "                          T.ArrayType(T.StringType())\n",
        "                      )\n",
        "\n",
        "        shingles = documents\\\n",
        "                        .withColumn(\n",
        "                            \"shingles\",\n",
        "                            shingle_udf(F.col(\"abstract\"))\n",
        "                        )\n",
        "\n",
        "        all_shingles = shingles\\\n",
        "                        .select(\"shingles\")\\\n",
        "                        .rdd\\\n",
        "                        .flatMap(lambda x: x[0])\\\n",
        "                        .distinct()\\\n",
        "                        .sortBy(lambda x: x)\\\n",
        "                        .cache()\n",
        "\n",
        "        all_shingles = all_shingles.collect()\n",
        "\n",
        "        # Apply convert shingles to bool_vector udf\n",
        "        convert_udf = F.udf(\n",
        "            lambda x: LargeDataMinHashLSH.__convert_to_bv(x, all_shingles),\n",
        "            VectorUDT()\n",
        "        )\n",
        "\n",
        "        shingles = shingles\\\n",
        "                    .withColumn(\n",
        "                        \"bool_vector\",\n",
        "                        convert_udf(F.col(\"shingles\"))\n",
        "                    )\n",
        "\n",
        "        self.all_shingles = all_shingles\n",
        "\n",
        "        return shingles.select(\"id\", \"bool_vector\").cache()\n",
        "\n",
        "    def generate_all_permutation(self, num_per : int, bool_len: int) -> list:\n",
        "        res = []\n",
        "        list_idx = list(range(bool_len))\n",
        "        for per in range(num_per):\n",
        "            random.Random(10).shuffle(list_idx)\n",
        "            res.append(list_idx.copy())\n",
        "\n",
        "        return res\n",
        "\n",
        "    def minhashing(self, bool_vectors: pyspark.sql.DataFrame, num_per = 10) -> pyspark.sql.DataFrame:\n",
        "        bool_len = len(self.all_shingles)\n",
        "        all_permutations = self.generate_all_permutation(num_per, bool_len)\n",
        "\n",
        "        self.all_permutations = all_permutations\n",
        "\n",
        "        def gen_signature(\n",
        "            x: SparseVector, all_permutations: list[list[int]]\n",
        "        ) -> list:\n",
        "            size_vec = x.size\n",
        "            res = []\n",
        "            for perm in all_permutations:\n",
        "                perm_idx = perm\n",
        "                for i in range(size_vec):\n",
        "                    idx = perm_idx[i]\n",
        "                    if idx in x.indices:\n",
        "                        res.append(i)\n",
        "                        break\n",
        "\n",
        "            return res\n",
        "\n",
        "        gen_sig_udf = F.udf(lambda x: gen_signature(x, all_permutations), T.ArrayType(T.IntegerType()))\n",
        "\n",
        "        sig = bool_vectors\\\n",
        "                .withColumn(\n",
        "                    \"signature\", gen_sig_udf(F.col(\"bool_vector\"))\n",
        "                )\n",
        "\n",
        "        return sig.select(\"id\", \"signature\")\n",
        "\n",
        "    def locality_sensity_hashing(\n",
        "            self, signatures: pyspark.sql.DataFrame, bands = 10\n",
        "        ) -> pyspark.sql.DataFrame:\n",
        "        # assert len(signatures.take(1)[0][\"signature\"]) % bands == 0,\\\n",
        "        # \"Bands should be devided by length signature.\"\n",
        "\n",
        "        def gen_buck(x: list, bands: int) -> DenseVector:\n",
        "            hash_func = lambda v: int(hashlib.sha256(str(v).encode('utf-8')).hexdigest(), 16) % 200\n",
        "            band_size = len(x) // bands\n",
        "            res = []\n",
        "            tmp_x = x\n",
        "            for i in range(bands):\n",
        "                tmp = \",\".join([str(v) for v in tmp_x[i * band_size : (i + 1) * band_size]])\n",
        "                res.append(hash_func(tmp))\n",
        "\n",
        "            return Vectors.dense(res)\n",
        "\n",
        "\n",
        "        generate_buck = F.udf(lambda x: gen_buck(x, bands), VectorUDT())\n",
        "\n",
        "        buckets = signatures.withColumn(\n",
        "            \"bucket_id\",\n",
        "            generate_buck(F.col(\"signature\"))\n",
        "        )\n",
        "\n",
        "        return buckets\n",
        "\n",
        "    def run(self) -> None:\n",
        "        self.bool_vectors = self.shingling(self.documents, k = self.k)\n",
        "        self.bool_vectors.show()\n",
        "        # self.bool_vectors = self.bool_vectors.cache()\n",
        "        self.signatures = self.minhashing(self.bool_vectors, num_per = self.num_per)\n",
        "        # self.signatures = self.signatures.cache()\n",
        "        self.signatures.show()\n",
        "\n",
        "        self.buckets = self.locality_sensity_hashing(self.signatures, bands = self.bands)\n",
        "        # self.buckets = self.buckets.cache()\n",
        "        self.buckets.show()\n",
        "\n",
        "\n",
        "    def jaccard_distance(x: set, y: set) -> float:\n",
        "\n",
        "        return 1 - (len(x.intersection(y)) / len(x.union(y)))\n",
        "\n",
        "    def approxNearestNeighbors(self, key: str, n: int) -> pyspark.sql.DataFrame:\n",
        "        shingles_set = LargeDataMinHashLSH.__shingle(key, k = self.k)\n",
        "        bool_vec = LargeDataMinHashLSH.__convert_to_bv(shingles_set, self.all_shingles)\n",
        "\n",
        "        signature = []\n",
        "        for list_idx in self.all_permutations:\n",
        "            first_idx = -1\n",
        "            for i in range(len(bool_vec)):\n",
        "                if bool_vec[list_idx[i]] == 1:\n",
        "                    first_idx = i\n",
        "                    break\n",
        "            signature.append(first_idx)\n",
        "\n",
        "        hash_func = lambda v: int(hashlib.sha256(str(v).encode('utf-8')).hexdigest(), 16) % 200\n",
        "\n",
        "        bucket = []\n",
        "        for b in range(self.bands):\n",
        "            sig_band = signature[b * self.band_size : (b + 1) * self.band_size]\n",
        "            hash_val = hash_func(\",\".join(str(v) for v in sig_band))\n",
        "            bucket.append(hash_val)\n",
        "\n",
        "\n",
        "        check_candidate_udf = F.udf(lambda x: sum([1 if int(x[i]) == bucket[i] else 0 for i in range(len(x))]) > 0, T.BooleanType())\n",
        "\n",
        "        candidates = self.buckets\\\n",
        "                        .withColumn(\n",
        "                            \"isCandidate\",\n",
        "                            check_candidate_udf(F.col(\"bucket_id\"))\n",
        "                        )\n",
        "\n",
        "        candidates = candidates.filter(candidates[\"isCandidate\"] == True)\n",
        "\n",
        "        calc_jaccard_udf = F.udf(lambda x: LargeDataMinHashLSH.jaccard_distance(set(x), set(signature)), T.FloatType())\n",
        "        candidates = candidates\\\n",
        "                        .withColumn(\n",
        "                            \"dist_col\",\n",
        "                            calc_jaccard_udf(F.col(\"signature\"))\n",
        "                        )\\\n",
        "                        .sort(F.asc(\"dist_col\"))\\\n",
        "                        .limit(n).cache()\n",
        "\n",
        "\n",
        "\n",
        "        return candidates.select(\"id\", \"signature\", \"bucket_id\", \"dist_col\").cache()\n"
      ]
    },
    {
      "cell_type": "code",
      "execution_count": 19,
      "metadata": {
        "id": "kO8_4beSzSN-"
      },
      "outputs": [],
      "source": [
        "large_lsh = LargeDataMinHashLSH(abstracts_df, k = 3, num_per = 100, bands = 20)"
      ]
    },
    {
      "cell_type": "code",
      "execution_count": 20,
      "metadata": {
        "colab": {
          "base_uri": "https://localhost:8080/"
        },
        "id": "0wpYVyDFQvzx",
        "outputId": "a3178737-69ad-4856-e092-dc4338aba87a"
      },
      "outputs": [
        {
          "name": "stdout",
          "output_type": "stream",
          "text": [
            "+---+--------------------+\n",
            "| id|         bool_vector|\n",
            "+---+--------------------+\n",
            "|  0|(31046,[5,233,308...|\n",
            "|  1|(31046,[85,88,90,...|\n",
            "|  2|(31046,[84,103,26...|\n",
            "|  3|(31046,[50,88,89,...|\n",
            "|  4|(31046,[115,116,2...|\n",
            "|  5|(31046,[105,107,2...|\n",
            "|  6|(31046,[104,116,1...|\n",
            "|  7|(31046,[88,89,90,...|\n",
            "|  8|(31046,[88,102,10...|\n",
            "|  9|(31046,[103,118,1...|\n",
            "| 10|(31046,[103,117,1...|\n",
            "| 11|(31046,[103,235,2...|\n",
            "| 12|(31046,[89,103,11...|\n",
            "| 13|(31046,[89,269,27...|\n",
            "| 14|(31046,[102,103,1...|\n",
            "| 15|(31046,[106,116,1...|\n",
            "| 16|(31046,[89,104,10...|\n",
            "| 17|(31046,[102,119,2...|\n",
            "| 18|(31046,[90,113,11...|\n",
            "| 19|(31046,[106,116,1...|\n",
            "+---+--------------------+\n",
            "only showing top 20 rows\n",
            "\n",
            "+---+--------------------+\n",
            "| id|           signature|\n",
            "+---+--------------------+\n",
            "|  0|[7, 5, 90, 107, 4...|\n",
            "|  1|[1, 10, 90, 15, 5...|\n",
            "|  2|[7, 5, 8, 1, 55, ...|\n",
            "|  3|[4, 5, 86, 27, 86...|\n",
            "|  4|[87, 102, 160, 3,...|\n",
            "|  5|[7, 5, 18, 1, 67,...|\n",
            "|  6|[13, 29, 144, 27,...|\n",
            "|  7|[4, 5, 18, 3, 50,...|\n",
            "|  8|[4, 5, 18, 3, 31,...|\n",
            "|  9|[13, 5, 97, 1, 16...|\n",
            "| 10|[13, 5, 90, 3, 45...|\n",
            "| 11|[4, 150, 97, 1, 8...|\n",
            "| 12|[13, 10, 18, 1, 3...|\n",
            "| 13|[13, 5, 8, 3, 37,...|\n",
            "| 14|[13, 10, 8, 1, 13...|\n",
            "| 15|[7, 5, 204, 27, 8...|\n",
            "| 16|[13, 29, 75, 17, ...|\n",
            "| 17|[4, 5, 8, 30, 37,...|\n",
            "| 18|[7, 5, 113, 1, 49...|\n",
            "| 19|[4, 29, 226, 17, ...|\n",
            "+---+--------------------+\n",
            "only showing top 20 rows\n",
            "\n",
            "+---+--------------------+--------------------+\n",
            "| id|           signature|           bucket_id|\n",
            "+---+--------------------+--------------------+\n",
            "|  0|[7, 5, 90, 107, 4...|[39.0,171.0,117.0...|\n",
            "|  1|[1, 10, 90, 15, 5...|[97.0,160.0,195.0...|\n",
            "|  2|[7, 5, 8, 1, 55, ...|[192.0,101.0,57.0...|\n",
            "|  3|[4, 5, 86, 27, 86...|[140.0,22.0,11.0,...|\n",
            "|  4|[87, 102, 160, 3,...|[199.0,184.0,62.0...|\n",
            "|  5|[7, 5, 18, 1, 67,...|[195.0,102.0,122....|\n",
            "|  6|[13, 29, 144, 27,...|[113.0,64.0,79.0,...|\n",
            "|  7|[4, 5, 18, 3, 50,...|[11.0,42.0,194.0,...|\n",
            "|  8|[4, 5, 18, 3, 31,...|[114.0,59.0,178.0...|\n",
            "|  9|[13, 5, 97, 1, 16...|[0.0,198.0,187.0,...|\n",
            "| 10|[13, 5, 90, 3, 45...|[189.0,85.0,86.0,...|\n",
            "| 11|[4, 150, 97, 1, 8...|[0.0,71.0,134.0,3...|\n",
            "| 12|[13, 10, 18, 1, 3...|[47.0,197.0,172.0...|\n",
            "| 13|[13, 5, 8, 3, 37,...|[131.0,130.0,70.0...|\n",
            "| 14|[13, 10, 8, 1, 13...|[46.0,49.0,198.0,...|\n",
            "| 15|[7, 5, 204, 27, 8...|[78.0,167.0,63.0,...|\n",
            "| 16|[13, 29, 75, 17, ...|[37.0,37.0,145.0,...|\n",
            "| 17|[4, 5, 8, 30, 37,...|[128.0,29.0,8.0,3...|\n",
            "| 18|[7, 5, 113, 1, 49...|[58.0,99.0,187.0,...|\n",
            "| 19|[4, 29, 226, 17, ...|[198.0,114.0,156....|\n",
            "+---+--------------------+--------------------+\n",
            "only showing top 20 rows\n",
            "\n"
          ]
        }
      ],
      "source": [
        "large_lsh.run()"
      ]
    },
    {
      "cell_type": "code",
      "execution_count": 21,
      "metadata": {
        "id": "414axLiIJCkj"
      },
      "outputs": [],
      "source": [
        "key = \"\"\"Phytoplasmas are insect-vectored bacteria that cause disease in a wide range of plant species. The increasing availability of molecular DNA analyses, expertise and additional methods in recent years has led to a proliferation of discoveries of phytoplasma-plant host associations and in the numbers of taxonomic groupings for phytoplasmas. The widespread use of common names based on the diseases with which they are associated, as well as separate phenetic and taxonomic systems for classifying phytoplasmas based on variation at the 16S rRNA-encoding gene, complicates interpretation of the literature. We explore this issue and related trends through a focus on Australian pathosystems, providing the first comprehensive compilation of information for this continent, covering the phytoplasmas, host plants, vectors and diseases. Of the 33 16Sr groups reported internationally, only groups I, II, III, X, XI and XII have been recorded in Australia and this highlights the need for ongoing biosecurity measures to prevent the introduction of additional pathogen groups. Many of the phytoplasmas reported in Australia have not been sufficiently well studied to assign them to 16Sr groups so it is likely that unrecognized groups and sub-groups are present. Wide host plant ranges are apparent among well studied phytoplasmas, with multiple crop and non-crop species infected by some. Disease management is further complicated by the fact that putative vectors have been identified for few phytoplasmas, especially in Australia. Despite rapid progress in recent years using molecular approaches, phytoplasmas remain the least well studied group of plant pathogens, making them a \"crouching tiger\" disease threat.\"\"\"\n",
        "candidate_l = large_lsh.approxNearestNeighbors(key, 10)"
      ]
    },
    {
      "cell_type": "code",
      "execution_count": 22,
      "metadata": {
        "colab": {
          "base_uri": "https://localhost:8080/"
        },
        "id": "P2jV3AVmPRLg",
        "outputId": "c7ce8dec-76da-405d-accc-18ab8b934011"
      },
      "outputs": [
        {
          "name": "stdout",
          "output_type": "stream",
          "text": [
            "+----+--------------------+--------------------+----------+\n",
            "|  id|           signature|           bucket_id|  dist_col|\n",
            "+----+--------------------+--------------------+----------+\n",
            "|   0|[7, 5, 90, 107, 4...|[39.0,171.0,117.0...|       0.0|\n",
            "| 375|[13, 5, 18, 1, 55...|[101.0,66.0,120.0...|  0.443038|\n",
            "|5374|[7, 5, 44, 3, 37,...|[10.0,154.0,124.0...|0.44578314|\n",
            "|3649|[13, 10, 18, 1, 5...|[9.0,178.0,55.0,6...|0.44871795|\n",
            "|4806|[13, 5, 18, 1, 50...|[149.0,104.0,117....|0.45679012|\n",
            "| 121|[13, 10, 3, 92, 6...|[89.0,51.0,14.0,3...|0.45882353|\n",
            "|2657|[7, 5, 75, 107, 1...|[2.0,137.0,40.0,1...|0.46835443|\n",
            "|4519|[7, 29, 75, 3, 55...|[57.0,120.0,115.0...|0.46835443|\n",
            "|5507|[5, 5, 90, 1, 116...|[130.0,114.0,153....| 0.4691358|\n",
            "|2427|[112, 5, 8, 1, 37...|[173.0,112.0,164....| 0.4698795|\n",
            "+----+--------------------+--------------------+----------+\n",
            "\n"
          ]
        }
      ],
      "source": [
        "candidate_l.show()"
      ]
    }
  ],
  "metadata": {
    "colab": {
      "collapsed_sections": [
        "tHoRFRkffszz"
      ],
      "provenance": []
    },
    "kernelspec": {
      "display_name": "Python 3",
      "name": "python3"
    },
    "language_info": {
      "codemirror_mode": {
        "name": "ipython",
        "version": 3
      },
      "file_extension": ".py",
      "mimetype": "text/x-python",
      "name": "python",
      "nbconvert_exporter": "python",
      "pygments_lexer": "ipython3",
      "version": "3.10.1"
    }
  },
  "nbformat": 4,
  "nbformat_minor": 0
}
